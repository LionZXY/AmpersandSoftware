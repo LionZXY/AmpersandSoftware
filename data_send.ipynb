{
 "cells": [
  {
   "metadata": {
    "ExecuteTime": {
     "end_time": "2025-06-06T13:49:18.760307Z",
     "start_time": "2025-06-06T13:48:59.690819Z"
    }
   },
   "cell_type": "code",
   "source": "%use kandy",
   "outputs": [],
   "execution_count": 150
  },
  {
   "metadata": {
    "ExecuteTime": {
     "end_time": "2025-06-06T13:49:18.797022Z",
     "start_time": "2025-06-06T13:49:18.764942Z"
    }
   },
   "cell_type": "code",
   "source": [
    "fun Byte.toBits(): IntArray {\n",
    "    val bits = IntArray(Byte.SIZE_BITS)\n",
    "    for (i in 0..<Byte.SIZE_BITS) {\n",
    "        bits[i] = (this.toInt() shr i) and 1\n",
    "    }\n",
    "    return bits\n",
    "}"
   ],
   "outputs": [],
   "execution_count": 151
  },
  {
   "metadata": {
    "ExecuteTime": {
     "end_time": "2025-06-06T13:49:18.841400Z",
     "start_time": "2025-06-06T13:49:18.800999Z"
    }
   },
   "cell_type": "code",
   "source": [
    "fun getPoints(bits: IntArray): List<Pair<Int, Int>> {\n",
    "    val points = mutableListOf<Pair<Int, Int>>()\n",
    "\n",
    "    points.add(0 to bits[0])\n",
    "\n",
    "    var prevPoint = bits[0]\n",
    "\n",
    "    for (i in 1..<bits.size) {\n",
    "        val bit = bits[i]\n",
    "        val index = i\n",
    "        if (bit == prevPoint) {\n",
    "            points.add(index to bit)\n",
    "        } else {\n",
    "            points.add(index to prevPoint)\n",
    "            points.add(index to bit)\n",
    "        }\n",
    "        prevPoint = bit\n",
    "    }\n",
    "    return points\n",
    "}"
   ],
   "outputs": [],
   "execution_count": 152
  },
  {
   "metadata": {
    "ExecuteTime": {
     "end_time": "2025-06-06T13:49:18.919774Z",
     "start_time": "2025-06-06T13:49:18.845323Z"
    }
   },
   "cell_type": "code",
   "source": [
    "import java.nio.ByteBuffer\n",
    "\n",
    "internal fun UInt.to4ByteArrayInBigEndian(): ByteArray =\n",
    "    (3 downTo 0).map {\n",
    "        (this shr (it * Byte.SIZE_BITS)).toByte()\n",
    "    }.toByteArray()\n",
    "\n",
    "val digit = 495017.toUInt()\n",
    "val bytes = digit.to4ByteArrayInBigEndian()"
   ],
   "outputs": [],
   "execution_count": 153
  },
  {
   "metadata": {
    "ExecuteTime": {
     "end_time": "2025-06-06T13:52:28.051463Z",
     "start_time": "2025-06-06T13:52:27.822858Z"
    }
   },
   "cell_type": "code",
   "source": [
    "import org.jetbrains.kotlinx.kandy.ir.Plot\n",
    "\n",
    "private val ONE_FRAME_WIDTH = 200\n",
    "\n",
    "fun drawPoints(points: List<Pair<Int, Int>>): Plot {\n",
    "    return plot {\n",
    "        line {\n",
    "            x<Int>(points.map { it.first }) {\n",
    "                this.axis.min = 0\n",
    "                this.axis\n",
    "            }\n",
    "            y<Int>(points.map { it.second }, \"signal\") {\n",
    "                axis.breaks(listOf(0, 1))\n",
    "            }\n",
    "            color = Color.BLUE\n",
    "            width = 5.0\n",
    "\n",
    "        }\n",
    "        layout {\n",
    "            size = points\n",
    "                .map { it.first }\n",
    "                .distinct()\n",
    "                .size * ONE_FRAME_WIDTH to 400\n",
    "            style {\n",
    "                global {\n",
    "                    text {\n",
    "                        fontSize = 28.0 * 2\n",
    "                        fontFamily = FontFamily.custom(\"GOST Type A\")\n",
    "                        blank = true\n",
    "                    }\n",
    "                    line {\n",
    "                        width = 8.0\n",
    "                        color = Color.BLACK\n",
    "                        //blank = true\n",
    "                    }\n",
    "                    axis {\n",
    "                        line = LayoutParameters.line(blank = true)\n",
    "                    }\n",
    "                }\n",
    "            }\n",
    "        }\n",
    "    }\n",
    "}\n",
    "\n",
    "val bits = bytes.drop(1).map { it.toBits().toList() }.flatten()\n",
    "val points = getPoints(bits.toIntArray())\n",
    "drawPoints(points).save(\"3byte_plot.png\")\n",
    "/*\n",
    "bytes.forEachIndexed { index, byte ->\n",
    "    println(\"[$index] ${byte.toInt().toChar()} ($byte): ${byte.toBits().joinToString(\" \")}\")\n",
    "    val filename = \"${index}_plot.png\"\n",
    "}*/\n"
   ],
   "outputs": [
    {
     "data": {
      "text/plain": [
       "/Users/lionzxy/private/AmpersandSoftware/lets-plot-images/3byte_plot.png"
      ]
     },
     "execution_count": 158,
     "metadata": {},
     "output_type": "execute_result"
    }
   ],
   "execution_count": 158
  },
  {
   "metadata": {
    "ExecuteTime": {
     "end_time": "2025-06-06T13:49:19.254906Z",
     "start_time": "2025-06-06T13:49:19.245482Z"
    }
   },
   "cell_type": "code",
   "source": "",
   "outputs": [],
   "execution_count": null
  }
 ],
 "metadata": {
  "kernelspec": {
   "display_name": "Kotlin",
   "language": "kotlin",
   "name": "kotlin"
  },
  "language_info": {
   "name": "kotlin",
   "version": "1.9.23",
   "mimetype": "text/x-kotlin",
   "file_extension": ".kt",
   "pygments_lexer": "kotlin",
   "codemirror_mode": "text/x-kotlin",
   "nbconvert_exporter": ""
  },
  "ktnbPluginMetadata": {
   "projectLibraries": true
  }
 },
 "nbformat": 4,
 "nbformat_minor": 0
}
